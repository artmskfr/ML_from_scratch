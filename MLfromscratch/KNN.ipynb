{
 "cells": [
  {
   "cell_type": "code",
   "execution_count": 4,
   "metadata": {},
   "outputs": [],
   "source": [
    "import numpy as np\n",
    "from collections import Counter"
   ]
  },
  {
   "cell_type": "code",
   "execution_count": 3,
   "metadata": {},
   "outputs": [],
   "source": [
    "class KNNClassifier:\n",
    "    # X_train array of features\n",
    "    # y_train - array of labels\n",
    "    # task ('classification'/'regression')\n",
    "    # k  Number of nearest neighbors to consider for prediction\n",
    "\n",
    "    def __init__(self, X_train, y_train, k=3, task='classification'):\n",
    "        self.X_train = X_train\n",
    "        self.y_train = y_train\n",
    "        self.k = k\n",
    "        self.task = task\n",
    "    \n",
    "    def predict(self, X_test):\n",
    "\n",
    "        predictions = []\n",
    "\n",
    "        for x_test in X_test:\n",
    "            distances = np.linalg.norm(self.X_train - x_test, axis=1)\n",
    "            sorted_indices = np.argsort(distances)\n",
    "            k_nearest_labels = self.y_train[sorted_indices[:self.k]]\n",
    "            \n",
    "            if self.task == 'classification':\n",
    "               \n",
    "                most_common = Counter(k_nearest_labels).most_common(1)\n",
    "                predictions.append(most_common[0][0])\n",
    "                \n",
    "            elif self.task == 'regression':\n",
    "               \n",
    "                predictions.append(np.mean(k_nearest_labels))\n",
    "        \n",
    "        return np.array(predictions)"
   ]
  },
  {
   "cell_type": "code",
   "execution_count": null,
   "metadata": {},
   "outputs": [],
   "source": []
  }
 ],
 "metadata": {
  "kernelspec": {
   "display_name": "envStudy",
   "language": "python",
   "name": "python3"
  },
  "language_info": {
   "codemirror_mode": {
    "name": "ipython",
    "version": 3
   },
   "file_extension": ".py",
   "mimetype": "text/x-python",
   "name": "python",
   "nbconvert_exporter": "python",
   "pygments_lexer": "ipython3",
   "version": "3.8.18"
  }
 },
 "nbformat": 4,
 "nbformat_minor": 2
}
